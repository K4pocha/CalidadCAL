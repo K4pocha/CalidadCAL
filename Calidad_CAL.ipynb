{
  "nbformat": 4,
  "nbformat_minor": 0,
  "metadata": {
    "colab": {
      "provenance": [],
      "toc_visible": true
    },
    "kernelspec": {
      "name": "python3",
      "display_name": "Python 3"
    },
    "language_info": {
      "name": "python"
    }
  },
  "cells": [
    {
      "cell_type": "code",
      "execution_count": null,
      "metadata": {
        "id": "g9XY3678U1wy"
      },
      "outputs": [],
      "source": [
        "  "
      ]
    },
    {
      "cell_type": "code",
      "source": [
        "#Importacion de librerias tensorflow, numpy y keras\n",
        "\n",
        "import tensorflow as tf\n",
        "import numpy as np\n",
        "from tensorflow import keras\n",
        "import pandas as pd\n",
        "\n",
        "#Declaracion de matrices de entrada, 3 neuronas de entrada. 1 Neurona de salida\n",
        "#Tag1: PH202TE: Temperatura Precalentador\n",
        "#Tag2: FH206ATE: Temperatura Hood\n",
        "#Tag3: KD205AIT: Corriente Motor Horno CAL2\n",
        "#Tag4: Calidad_CAL\n",
        "\n",
        "'''\n",
        "# Datos desde un csv a un dataframe de Pandas \n",
        "df = pd.read_csv(\"datos.csv\", sep=\",\",header=None)\n",
        "\n",
        "#Dataframe pandas a array numpy\n",
        "data = np.array(df)\n",
        "\n",
        "campo_4 = data[:, 3]\n",
        "print(\"Valor de salida:\")\n",
        "for i, value in enumerate(campo_4):\n",
        "    print(\"Linea {}: {}\".format(i+1, value))\n",
        "\n",
        "Tags=np.array(df)\n",
        "'''\n",
        "\n",
        "Tags=np.array([[-41,-40,-38],[-11,-11,-11],[8,8,9],[7,9,9],[10,12,12],[14,14,16],[14,15,16]], dtype=float )\n",
        "#Calidad_CAL no se toca (por el momento)\n",
        "Calidad_CAL=np.array([-40,-11,8,9,12,14,16], dtype=float)"
      ],
      "metadata": {
        "id": "3_NTcMGuebJK"
      },
      "execution_count": null,
      "outputs": []
    },
    {
      "cell_type": "code",
      "source": [
        "#Definicion del modelo de red neuronal\n",
        "\n",
        "entrada=tf.keras.layers.Dense(units=3)\n",
        "oculta=tf.keras.layers.Dense(units=5)\n",
        "salida=tf.keras.layers.Dense(units=1)\n",
        "modelo=tf.keras.Sequential([entrada,oculta,salida])"
      ],
      "metadata": {
        "id": "-cymbKvJDfhA"
      },
      "execution_count": null,
      "outputs": []
    },
    {
      "cell_type": "code",
      "source": [],
      "metadata": {
        "id": "7oIBmtpbOXZi"
      },
      "execution_count": null,
      "outputs": []
    },
    {
      "cell_type": "code",
      "source": [],
      "metadata": {
        "id": "iv52GUfhUbDI"
      },
      "execution_count": null,
      "outputs": []
    },
    {
      "cell_type": "markdown",
      "source": [],
      "metadata": {
        "id": "KtwHbBhbTo2L"
      }
    },
    {
      "cell_type": "code",
      "source": [
        "modelo.compile(\n",
        "    optimizer=tf.keras.optimizers.Adam(0.1),\n",
        "    loss='mean_squared_error' \n",
        "       )"
      ],
      "metadata": {
        "id": "8wTnHix9Ej4q"
      },
      "execution_count": null,
      "outputs": []
    },
    {
      "cell_type": "code",
      "source": [],
      "metadata": {
        "id": "C5-TfSTAtlOy"
      },
      "execution_count": null,
      "outputs": []
    },
    {
      "cell_type": "markdown",
      "source": [],
      "metadata": {
        "id": "UAlyxnwL3U4I"
      }
    },
    {
      "cell_type": "code",
      "source": [
        "print(\"Comenzando entrenamiento\")\n",
        "historial =modelo.fit(Tags,Calidad_CAL,epochs=100,verbose=1)\n",
        "print(\"modelo entrenado\")"
      ],
      "metadata": {
        "id": "qkKc2lRYHy4K",
        "colab": {
          "base_uri": "https://localhost:8080/"
        },
        "outputId": "a3c377f6-2dc8-424e-9a42-d507a999d477"
      },
      "execution_count": null,
      "outputs": [
        {
          "output_type": "stream",
          "name": "stdout",
          "text": [
            "Comenzando entrenamiento\n",
            "Epoch 1/100\n",
            "1/1 [==============================] - 1s 606ms/step - loss: 488.7581\n",
            "Epoch 2/100\n",
            "1/1 [==============================] - 0s 10ms/step - loss: 3.3941\n",
            "Epoch 3/100\n",
            "1/1 [==============================] - 0s 9ms/step - loss: 91.9557\n",
            "Epoch 4/100\n",
            "1/1 [==============================] - 0s 6ms/step - loss: 54.2050\n",
            "Epoch 5/100\n",
            "1/1 [==============================] - 0s 6ms/step - loss: 1.4088\n",
            "Epoch 6/100\n",
            "1/1 [==============================] - 0s 12ms/step - loss: 70.3686\n",
            "Epoch 7/100\n",
            "1/1 [==============================] - 0s 5ms/step - loss: 58.2495\n",
            "Epoch 8/100\n",
            "1/1 [==============================] - 0s 6ms/step - loss: 4.9526\n",
            "Epoch 9/100\n",
            "1/1 [==============================] - 0s 6ms/step - loss: 16.9671\n",
            "Epoch 10/100\n",
            "1/1 [==============================] - 0s 8ms/step - loss: 49.3169\n",
            "Epoch 11/100\n",
            "1/1 [==============================] - 0s 6ms/step - loss: 31.0621\n",
            "Epoch 12/100\n",
            "1/1 [==============================] - 0s 7ms/step - loss: 2.6718\n",
            "Epoch 13/100\n",
            "1/1 [==============================] - 0s 8ms/step - loss: 8.2212\n",
            "Epoch 14/100\n",
            "1/1 [==============================] - 0s 183ms/step - loss: 27.2750\n",
            "Epoch 15/100\n",
            "1/1 [==============================] - 0s 7ms/step - loss: 24.7179\n",
            "Epoch 16/100\n",
            "1/1 [==============================] - 0s 7ms/step - loss: 7.3443\n",
            "Epoch 17/100\n",
            "1/1 [==============================] - 0s 6ms/step - loss: 0.5215\n",
            "Epoch 18/100\n",
            "1/1 [==============================] - 0s 5ms/step - loss: 9.4008\n",
            "Epoch 19/100\n",
            "1/1 [==============================] - 0s 5ms/step - loss: 16.5060\n",
            "Epoch 20/100\n",
            "1/1 [==============================] - 0s 5ms/step - loss: 11.1081\n",
            "Epoch 21/100\n",
            "1/1 [==============================] - 0s 9ms/step - loss: 2.2517\n",
            "Epoch 22/100\n",
            "1/1 [==============================] - 0s 6ms/step - loss: 0.9233\n",
            "Epoch 23/100\n",
            "1/1 [==============================] - 0s 10ms/step - loss: 6.0468\n",
            "Epoch 24/100\n",
            "1/1 [==============================] - 0s 5ms/step - loss: 9.4849\n",
            "Epoch 25/100\n",
            "1/1 [==============================] - 0s 5ms/step - loss: 7.1962\n",
            "Epoch 26/100\n",
            "1/1 [==============================] - 0s 7ms/step - loss: 2.3755\n",
            "Epoch 27/100\n",
            "1/1 [==============================] - 0s 5ms/step - loss: 0.2776\n",
            "Epoch 28/100\n",
            "1/1 [==============================] - 0s 8ms/step - loss: 2.2432\n",
            "Epoch 29/100\n",
            "1/1 [==============================] - 0s 8ms/step - loss: 4.8512\n",
            "Epoch 30/100\n",
            "1/1 [==============================] - 0s 5ms/step - loss: 4.6181\n",
            "Epoch 31/100\n",
            "1/1 [==============================] - 0s 5ms/step - loss: 2.1106\n",
            "Epoch 32/100\n",
            "1/1 [==============================] - 0s 9ms/step - loss: 0.3607\n",
            "Epoch 33/100\n",
            "1/1 [==============================] - 0s 8ms/step - loss: 0.8524\n",
            "Epoch 34/100\n",
            "1/1 [==============================] - 0s 9ms/step - loss: 2.3861\n",
            "Epoch 35/100\n",
            "1/1 [==============================] - 0s 7ms/step - loss: 3.0248\n",
            "Epoch 36/100\n",
            "1/1 [==============================] - 0s 6ms/step - loss: 2.1616\n",
            "Epoch 37/100\n",
            "1/1 [==============================] - 0s 8ms/step - loss: 0.7958\n",
            "Epoch 38/100\n",
            "1/1 [==============================] - 0s 8ms/step - loss: 0.2694\n",
            "Epoch 39/100\n",
            "1/1 [==============================] - 0s 8ms/step - loss: 0.8712\n",
            "Epoch 40/100\n",
            "1/1 [==============================] - 0s 8ms/step - loss: 1.6583\n",
            "Epoch 41/100\n",
            "1/1 [==============================] - 0s 8ms/step - loss: 1.6442\n",
            "Epoch 42/100\n",
            "1/1 [==============================] - 0s 5ms/step - loss: 0.9106\n",
            "Epoch 43/100\n",
            "1/1 [==============================] - 0s 5ms/step - loss: 0.3178\n",
            "Epoch 44/100\n",
            "1/1 [==============================] - 0s 6ms/step - loss: 0.3985\n",
            "Epoch 45/100\n",
            "1/1 [==============================] - 0s 5ms/step - loss: 0.8721\n",
            "Epoch 46/100\n",
            "1/1 [==============================] - 0s 5ms/step - loss: 1.1222\n",
            "Epoch 47/100\n",
            "1/1 [==============================] - 0s 5ms/step - loss: 0.8870\n",
            "Epoch 48/100\n",
            "1/1 [==============================] - 0s 5ms/step - loss: 0.4502\n",
            "Epoch 49/100\n",
            "1/1 [==============================] - 0s 6ms/step - loss: 0.2632\n",
            "Epoch 50/100\n",
            "1/1 [==============================] - 0s 6ms/step - loss: 0.4491\n",
            "Epoch 51/100\n",
            "1/1 [==============================] - 0s 6ms/step - loss: 0.7088\n",
            "Epoch 52/100\n",
            "1/1 [==============================] - 0s 5ms/step - loss: 0.7095\n",
            "Epoch 53/100\n",
            "1/1 [==============================] - 0s 5ms/step - loss: 0.4693\n",
            "Epoch 54/100\n",
            "1/1 [==============================] - 0s 5ms/step - loss: 0.2765\n",
            "Epoch 55/100\n",
            "1/1 [==============================] - 0s 5ms/step - loss: 0.3128\n",
            "Epoch 56/100\n",
            "1/1 [==============================] - 0s 5ms/step - loss: 0.4736\n",
            "Epoch 57/100\n",
            "1/1 [==============================] - 0s 5ms/step - loss: 0.5410\n",
            "Epoch 58/100\n",
            "1/1 [==============================] - 0s 6ms/step - loss: 0.4410\n",
            "Epoch 59/100\n",
            "1/1 [==============================] - 0s 11ms/step - loss: 0.2982\n",
            "Epoch 60/100\n",
            "1/1 [==============================] - 0s 8ms/step - loss: 0.2665\n",
            "Epoch 61/100\n",
            "1/1 [==============================] - 0s 5ms/step - loss: 0.3509\n",
            "Epoch 62/100\n",
            "1/1 [==============================] - 0s 6ms/step - loss: 0.4221\n",
            "Epoch 63/100\n",
            "1/1 [==============================] - 0s 5ms/step - loss: 0.3879\n",
            "Epoch 64/100\n",
            "1/1 [==============================] - 0s 7ms/step - loss: 0.2976\n",
            "Epoch 65/100\n",
            "1/1 [==============================] - 0s 12ms/step - loss: 0.2591\n",
            "Epoch 66/100\n",
            "1/1 [==============================] - 0s 16ms/step - loss: 0.2996\n",
            "Epoch 67/100\n",
            "1/1 [==============================] - 0s 76ms/step - loss: 0.3493\n",
            "Epoch 68/100\n",
            "1/1 [==============================] - 0s 80ms/step - loss: 0.3413\n",
            "Epoch 69/100\n",
            "1/1 [==============================] - 0s 32ms/step - loss: 0.2890\n",
            "Epoch 70/100\n",
            "1/1 [==============================] - 0s 9ms/step - loss: 0.2571\n",
            "Epoch 71/100\n",
            "1/1 [==============================] - 0s 8ms/step - loss: 0.2755\n",
            "Epoch 72/100\n",
            "1/1 [==============================] - 0s 11ms/step - loss: 0.3083\n",
            "Epoch 73/100\n",
            "1/1 [==============================] - 0s 11ms/step - loss: 0.3078\n",
            "Epoch 74/100\n",
            "1/1 [==============================] - 0s 7ms/step - loss: 0.2764\n",
            "Epoch 75/100\n",
            "1/1 [==============================] - 0s 8ms/step - loss: 0.2551\n",
            "Epoch 76/100\n",
            "1/1 [==============================] - 0s 10ms/step - loss: 0.2652\n",
            "Epoch 77/100\n",
            "1/1 [==============================] - 0s 8ms/step - loss: 0.2850\n",
            "Epoch 78/100\n",
            "1/1 [==============================] - 0s 8ms/step - loss: 0.2849\n",
            "Epoch 79/100\n",
            "1/1 [==============================] - 0s 7ms/step - loss: 0.2659\n",
            "Epoch 80/100\n",
            "1/1 [==============================] - 0s 8ms/step - loss: 0.2529\n",
            "Epoch 81/100\n",
            "1/1 [==============================] - 0s 8ms/step - loss: 0.2593\n",
            "Epoch 82/100\n",
            "1/1 [==============================] - 0s 10ms/step - loss: 0.2712\n",
            "Epoch 83/100\n",
            "1/1 [==============================] - 0s 9ms/step - loss: 0.2699\n",
            "Epoch 84/100\n",
            "1/1 [==============================] - 0s 9ms/step - loss: 0.2576\n",
            "Epoch 85/100\n",
            "1/1 [==============================] - 0s 8ms/step - loss: 0.2506\n",
            "Epoch 86/100\n",
            "1/1 [==============================] - 0s 9ms/step - loss: 0.2555\n",
            "Epoch 87/100\n",
            "1/1 [==============================] - 0s 12ms/step - loss: 0.2620\n",
            "Epoch 88/100\n",
            "1/1 [==============================] - 0s 8ms/step - loss: 0.2597\n",
            "Epoch 89/100\n",
            "1/1 [==============================] - 0s 9ms/step - loss: 0.2518\n",
            "Epoch 90/100\n",
            "1/1 [==============================] - 0s 11ms/step - loss: 0.2486\n",
            "Epoch 91/100\n",
            "1/1 [==============================] - 0s 10ms/step - loss: 0.2524\n",
            "Epoch 92/100\n",
            "1/1 [==============================] - 0s 7ms/step - loss: 0.2554\n",
            "Epoch 93/100\n",
            "1/1 [==============================] - 0s 9ms/step - loss: 0.2525\n",
            "Epoch 94/100\n",
            "1/1 [==============================] - 0s 10ms/step - loss: 0.2476\n",
            "Epoch 95/100\n",
            "1/1 [==============================] - 0s 10ms/step - loss: 0.2468\n",
            "Epoch 96/100\n",
            "1/1 [==============================] - 0s 9ms/step - loss: 0.2494\n",
            "Epoch 97/100\n",
            "1/1 [==============================] - 0s 8ms/step - loss: 0.2501\n",
            "Epoch 98/100\n",
            "1/1 [==============================] - 0s 9ms/step - loss: 0.2473\n",
            "Epoch 99/100\n",
            "1/1 [==============================] - 0s 10ms/step - loss: 0.2446\n",
            "Epoch 100/100\n",
            "1/1 [==============================] - 0s 9ms/step - loss: 0.2449\n",
            "modelo entrenado\n"
          ]
        }
      ]
    },
    {
      "cell_type": "code",
      "source": [],
      "metadata": {
        "id": "Q3JOfhSVOueb"
      },
      "execution_count": null,
      "outputs": []
    },
    {
      "cell_type": "code",
      "source": [
        "import matplotlib.pyplot as plt\n",
        "plt.xlabel(\"# epoca\")\n",
        "plt.ylabel(\"Magnitud de perdida\")\n",
        "plt.plot(historial.history[\"loss\"])"
      ],
      "metadata": {
        "colab": {
          "base_uri": "https://localhost:8080/",
          "height": 296
        },
        "id": "TK6MsavoHI-a",
        "outputId": "cf2f3754-dfcc-4177-f3d7-53262c2aad37"
      },
      "execution_count": null,
      "outputs": [
        {
          "output_type": "execute_result",
          "data": {
            "text/plain": [
              "[<matplotlib.lines.Line2D at 0x7fa17efd9940>]"
            ]
          },
          "metadata": {},
          "execution_count": 6
        },
        {
          "output_type": "display_data",
          "data": {
            "text/plain": [
              "<Figure size 432x288 with 1 Axes>"
            ],
            "image/png": "[encoded data removed]"
          },
          "metadata": {
            "needs_background": "light"
          }
        }
      ]
    },
    {
      "cell_type": "code",
      "source": [
        "print(\"Prediccion\")\n",
        "resultado=modelo.predict([[21,21,21]])\n",
        "print(\"El resulado es\"+ str (resultado) + \"Calidad_CAL\")"
      ],
      "metadata": {
        "colab": {
          "base_uri": "https://localhost:8080/"
        },
        "id": "io1cb3JiNPMa",
        "outputId": "15fb87b5-8f47-4c28-bf54-74b943b7dd4c"
      },
      "execution_count": null,
      "outputs": [
        {
          "output_type": "stream",
          "name": "stdout",
          "text": [
            "Prediccion\n",
            "1/1 [==============================] - 0s 95ms/step\n",
            "El resulado es[[21.155785]]Calidad_CAL\n"
          ]
        }
      ]
    },
    {
      "cell_type": "code",
      "source": [
        "print(\"variables internas del modelo\")\n",
        "#print(entrada.get_weights())\n",
        "print(oculta.get_weights())\n",
        "#print(salida.get_weights())"
      ],
      "metadata": {
        "id": "1i39KtlcOxvF",
        "colab": {
          "base_uri": "https://localhost:8080/"
        },
        "outputId": "d0a0f463-8f8d-48ee-a79f-4ea81493150c"
      },
      "execution_count": null,
      "outputs": [
        {
          "output_type": "stream",
          "name": "stdout",
          "text": [
            "variables internas del modelo\n",
            "[array([[ 0.0793427 , -0.23427449,  0.08292226,  0.8707059 ,  0.34754187],\n",
            "       [ 0.12343159,  0.5414168 , -0.96165395,  0.07504895, -0.23300424],\n",
            "       [ 0.6086956 ,  0.0843217 , -0.13993949, -0.0127717 , -0.2745481 ]],\n",
            "      dtype=float32), array([ 0.12164344,  0.03672606, -0.01341813, -0.19025901, -0.31247357],\n",
            "      dtype=float32)]\n"
          ]
        }
      ]
    },
    {
      "cell_type": "markdown",
      "source": [
        "# Nueva sección"
      ],
      "metadata": {
        "id": "pR7k8xzIhwPO"
      }
    },
    {
      "cell_type": "code",
      "source": [],
      "metadata": {
        "id": "yuHSshogt74K"
      },
      "execution_count": null,
      "outputs": []
    },
    {
      "cell_type": "markdown",
      "source": [
        "# Nueva sección"
      ],
      "metadata": {
        "id": "LPYPj4XpUtoY"
      }
    }
  ]
}